{
 "cells": [
  {
   "cell_type": "markdown",
   "metadata": {},
   "source": [
    "Summary:\n",
    "\n",
    "1. Add a new file in `torchaudio/model` folder named `wavernn`, add block list as:\n",
    "\n",
    "`__all__ = [\"ResBlock\", \"MelResNet\", \"UpsamplingNet\", \"WaveRNN\"]`\n",
    "\n",
    "2. Change all `F.ReLU` to `nn.ReLU`\n",
    "\n",
    "3. Use `nn.Sequential` block as `wave2letter` model\n",
    "\n",
    "4. Add argument comments in each class\n",
    "\n",
    "5. Test the output tensor size with a random input tensor in `test/test_models.py`\n"
   ]
  },
  {
   "cell_type": "code",
   "execution_count": 7,
   "metadata": {},
   "outputs": [],
   "source": [
    "import torch\n",
    "import torch.nn as nn\n",
    "from torch import Tensor\n",
    "#import torch.nn.functional as F\n",
    "\n",
    "__all__ = [\"ResBlock\", \"MelResNet\", \"UpsamplingNet\", \"WaveRNN\"]"
   ]
  },
  {
   "cell_type": "code",
   "execution_count": 8,
   "metadata": {},
   "outputs": [],
   "source": [
    "class ResBlock(nn.Module) :\n",
    "    r\"\"\"\n",
    "    Args:\n",
    "        num_classes (int, optional): Number of dimensions in ResBlock. (Default: ``40``)\n",
    "    \"\"\"\n",
    "    def __init__(self, dims) -> None:\n",
    "        super().__init__()\n",
    "        \n",
    "        self.conv1 = nn.Conv1d(dims, dims, kernel_size=1, bias=False)\n",
    "        self.conv2 = nn.Conv1d(dims, dims, kernel_size=1, bias=False)\n",
    "        self.batch_norm1 = nn.BatchNorm1d(dims)\n",
    "        self.relu = nn.ReLU(inplace=True)\n",
    "        self.batch_norm2 = nn.BatchNorm1d(dims)\n",
    "        \n",
    "    def forward(self, x: Tensor) -> Tensor:\n",
    "        residual = x\n",
    "        x = self.conv1(x)\n",
    "        x = self.batch_norm1(x)\n",
    "        #x = F.relu(x)\n",
    "        x = self.relu(x)\n",
    "        x = self.conv2(x)\n",
    "        x = self.batch_norm2(x)\n",
    "        return x + residual\n",
    "\n",
    "class MelResNet(nn.Module):\n",
    "    r\"\"\"\n",
    "    Args:\n",
    "        res_blocks (int, optional): Number of ResBlocks. (Default: ``10``).\n",
    "        input_dims (int, optional): Number of hidden dimensions (Default: ``32``).\n",
    "        hidden_dims (int, optional): Number of input dimensions (Default: ``2``).\n",
    "        output_dims (int, optional): Number of ouput dimensions (Default: ``50``).\n",
    "    \"\"\"\n",
    "    def __init__(self, res_blocks: int = 10,\n",
    "                 input_dims: int = 2, \n",
    "                 hidden_dims: int = 32, \n",
    "                 output_dims: int = 50) -> None:\n",
    "        super().__init__()\n",
    "        \n",
    "        self.conv_in = nn.Conv1d(input_dims, hidden_dims, kernel_size=5, bias=False)\n",
    "        self.batch_norm = nn.BatchNorm1d(hidden_dims)\n",
    "        self.relu = nn.ReLU(inplace=True)\n",
    "        self.layers = nn.ModuleList()\n",
    "        for i in range(res_blocks) :\n",
    "            self.layers.append(ResBlock(hidden_dims))\n",
    "        self.conv_out = nn.Conv1d(hidden_dims, output_dims, kernel_size=1)\n",
    "        \n",
    "    def forward(self, x) :\n",
    "        x = self.conv_in(x)\n",
    "        x = self.batch_norm(x)\n",
    "        x = self.relu(x)\n",
    "        #x = F.relu(x)\n",
    "        for f in self.layers : x = f(x)\n",
    "        x = self.conv_out(x)\n",
    "        return x\n"
   ]
  },
  {
   "cell_type": "code",
   "execution_count": 9,
   "metadata": {},
   "outputs": [],
   "source": [
    "x = torch.rand(32, 80, 20)"
   ]
  },
  {
   "cell_type": "code",
   "execution_count": 10,
   "metadata": {},
   "outputs": [],
   "source": [
    "res_block = 10\n",
    "in_dims = 80\n",
    "compute_dims = 10\n",
    "res_out_dims = 50\n",
    "model = MelResNet(res_block, in_dims, compute_dims, res_out_dims)\n",
    "output = model(x)"
   ]
  },
  {
   "cell_type": "code",
   "execution_count": 11,
   "metadata": {},
   "outputs": [
    {
     "data": {
      "text/plain": [
       "torch.Size([32, 50, 16])"
      ]
     },
     "execution_count": 11,
     "metadata": {},
     "output_type": "execute_result"
    }
   ],
   "source": [
    "output.shape"
   ]
  },
  {
   "cell_type": "code",
   "execution_count": 12,
   "metadata": {},
   "outputs": [],
   "source": [
    "import pytest\n",
    "\n",
    "class MelResNet:\n",
    "    @pytest.mark.parametrize('batch_size', [32])\n",
    "    @pytest.mark.parametrize('input_dims', [50])\n",
    "    @pytest.mark.parametrize('in_length', [20])\n",
    "    #@pytest.mark.parametrize('res_block', [10])\n",
    "    #@pytest.mark.parametrize('hidden_dims', [64])\n",
    "    @pytest.mark.parametrize('output_dims', [80])\n",
    "    def test_waveform(self, batch_size, in_dims, in_length, out_dims):\n",
    "        model = MelResNet()\n",
    "\n",
    "        x = torch.rand(batch_size, in_dims, in_length)\n",
    "        out = model(x)\n",
    "\n",
    "        assert out.size() == (batch_size, out_dims, in_length-4)"
   ]
  },
  {
   "cell_type": "code",
   "execution_count": null,
   "metadata": {},
   "outputs": [],
   "source": []
  }
 ],
 "metadata": {
  "kernelspec": {
   "display_name": "Python 3",
   "language": "python",
   "name": "python3"
  },
  "language_info": {
   "codemirror_mode": {
    "name": "ipython",
    "version": 3
   },
   "file_extension": ".py",
   "mimetype": "text/x-python",
   "name": "python",
   "nbconvert_exporter": "python",
   "pygments_lexer": "ipython3",
   "version": "3.7.6"
  }
 },
 "nbformat": 4,
 "nbformat_minor": 4
}
