{
 "cells": [
  {
   "cell_type": "code",
   "execution_count": 11,
   "metadata": {},
   "outputs": [],
   "source": [
    "import torch\n",
    "import torch.nn as nn\n",
    "from torch import Tensor\n",
    "\n",
    "__all__ = [\"ResBlock\", \"MelResNet\"]\n",
    "\n",
    "\n",
    "class ResBlock(nn.Module):\n",
    "    r\"\"\"Add description here.\n",
    "    Args:\n",
    "        num_dims (int, optional): Number of compute dimensions in ResBlock. (Default: ``128``)\n",
    "    \"\"\"\n",
    "    def __init__(self, num_dims: int = 128) -> None:\n",
    "        super().__init__()\n",
    "\n",
    "        self.resblock_model = nn.Sequential(\n",
    "            nn.Conv1d(in_channels=num_dims, out_channels=num_dims, kernel_size=1, bias=False),\n",
    "            nn.BatchNorm1d(num_dims),\n",
    "            nn.ReLU(inplace=True),\n",
    "            nn.Conv1d(in_channels=num_dims, out_channels=num_dims, kernel_size=1, bias=False),\n",
    "            nn.BatchNorm1d(num_dims)\n",
    "        )\n",
    "\n",
    "    def forward(self, x: Tensor) -> Tensor:\n",
    "        r\"\"\"Add description here.\n",
    "        Args:\n",
    "            x (Tensor): Tensor of dimension (batch_size, input_dims, input_length).\n",
    "\n",
    "        Returns:\n",
    "            Tensor: Predictor tensor of dimension (batch_size, output_dims, input_length-4).\n",
    "        \"\"\"\n",
    "        residual = x\n",
    "        y = self.resblock_model(x)\n",
    "        return y + residual\n",
    "\n",
    "\n",
    "class MelResNet(nn.Module):\n",
    "    r\"\"\"Add description here.\n",
    "    Args:\n",
    "        res_blocks (int, optional): Number of ResBlocks. (Default: ``10``).\n",
    "        input_dims (int, optional): Number of input dimensions (Default: ``100``).\n",
    "        hidden_dims (int, optional): Number of hidden dimensions (Default: ``128``).\n",
    "        output_dims (int, optional): Number of ouput dimensions (Default: ``128``).\n",
    "    \"\"\"\n",
    "    def __init__(self, res_blocks: int = 10,\n",
    "                 input_dims: int = 100,\n",
    "                 hidden_dims: int = 128,\n",
    "                 output_dims: int = 128) -> None:\n",
    "        super().__init__()\n",
    "\n",
    "        ResBlocks = []\n",
    "        \n",
    "        for i in range(res_blocks):\n",
    "            ResBlocks.append(ResBlock(hidden_dims))\n",
    "\n",
    "        self.melresnet_model = nn.Sequential(\n",
    "            nn.Conv1d(in_channels=input_dims, out_channels=hidden_dims, kernel_size=5, bias=False),\n",
    "            nn.BatchNorm1d(hidden_dims),\n",
    "            nn.ReLU(inplace=True),\n",
    "            *ResBlocks,\n",
    "            nn.Conv1d(in_channels=hidden_dims, out_channels=output_dims, kernel_size=1)\n",
    "        )\n",
    "                       \n",
    "    def forward(self, x: Tensor) -> Tensor:\n",
    "        r\"\"\"Add description here.\n",
    "        Args:\n",
    "            x (Tensor): Tensor of dimension (batch_size, input_dims, input_length).\n",
    "\n",
    "        Returns:\n",
    "            Tensor: Predictor tensor of dimension (batch_size, output_dims, input_length-4).\n",
    "        \"\"\"\n",
    "        y = self.melresnet_model(x)\n",
    "        return y"
   ]
  },
  {
   "cell_type": "code",
   "execution_count": 13,
   "metadata": {},
   "outputs": [
    {
     "name": "stdout",
     "output_type": "stream",
     "text": [
      "torch.Size([32, 128, 16])\n"
     ]
    }
   ],
   "source": [
    "x = torch.rand(32, 100, 20)\n",
    "res_block = 10\n",
    "in_dims = 100\n",
    "compute_dims = 128\n",
    "res_out_dims = 128\n",
    "model = MelResNet(res_block, in_dims, compute_dims, res_out_dims)\n",
    "output = model(x)\n",
    "print(output.shape)"
   ]
  },
  {
   "cell_type": "code",
   "execution_count": 44,
   "metadata": {},
   "outputs": [],
   "source": [
    "#@pytest.mark.parametrize('batch_size', [2])\n",
    "#@pytest.mark.parametrize('num_features', [200])\n",
    "#@pytest.mark.parametrize('input_dims', [100])\n",
    "#@pytest.mark.parametrize('output_dims', [128])\n",
    "\n",
    "def test_waveform(batch_size: int = 2, \n",
    "                  num_features: int = 200, \n",
    "                  input_dims: int = 100, \n",
    "                  output_dims: int = 128) -> Tensor:\n",
    "    \n",
    "    model = MelResNet()\n",
    "    x = torch.rand(batch_size, input_dims, num_features)\n",
    "    out = model(x)\n",
    "\n",
    "    assert out.size() == (batch_size, output_dims, num_features - 4)"
   ]
  },
  {
   "cell_type": "code",
   "execution_count": 45,
   "metadata": {},
   "outputs": [],
   "source": [
    "test_waveform()"
   ]
  },
  {
   "cell_type": "code",
   "execution_count": null,
   "metadata": {},
   "outputs": [],
   "source": []
  },
  {
   "cell_type": "code",
   "execution_count": null,
   "metadata": {},
   "outputs": [],
   "source": []
  }
 ],
 "metadata": {
  "kernelspec": {
   "display_name": "Python 3",
   "language": "python",
   "name": "python3"
  },
  "language_info": {
   "codemirror_mode": {
    "name": "ipython",
    "version": 3
   },
   "file_extension": ".py",
   "mimetype": "text/x-python",
   "name": "python",
   "nbconvert_exporter": "python",
   "pygments_lexer": "ipython3",
   "version": "3.7.6"
  }
 },
 "nbformat": 4,
 "nbformat_minor": 4
}
