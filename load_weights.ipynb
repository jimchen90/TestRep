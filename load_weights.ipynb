{
 "cells": [
  {
   "cell_type": "code",
   "execution_count": 19,
   "metadata": {},
   "outputs": [],
   "source": [
    "import torch\n",
    "import torchaudio\n",
    "from torchaudio.models._wavernn import _WaveRNN\n",
    "from collections import OrderedDict"
   ]
  },
  {
   "cell_type": "code",
   "execution_count": 20,
   "metadata": {},
   "outputs": [
    {
     "data": {
      "text/plain": [
       "<All keys matched successfully>"
      ]
     },
     "execution_count": 20,
     "metadata": {},
     "output_type": "execute_result"
    }
   ],
   "source": [
    "device = torch.device('cuda' if torch.cuda.is_available() else 'cpu')\n",
    "\n",
    "checkpoint_path = './model_best.pth.tar'\n",
    "checkpoint = torch.load(checkpoint_path, map_location=device)\n",
    "\n",
    "state_dict = checkpoint[\"state_dict\"]\n",
    "\n",
    "model = _WaveRNN(\n",
    "    n_bits=8,\n",
    "    upsample_scales=[5, 5, 11],\n",
    "    sample_rate=22050,\n",
    "    hop_length=275,\n",
    "    n_freq=80,\n",
    ")\n",
    "\n",
    "# model.load_state_dict(state_dict) has error because the model is saved using `nn.DataParallel`\n",
    "# https://discuss.pytorch.org/t/solved-keyerror-unexpected-key-module-encoder-embedding-weight-in-state-dict/1686\n",
    "new_state_dict = OrderedDict()\n",
    "for k, v in state_dict.items():\n",
    "    # remove `module.`\n",
    "    name = k[7:]\n",
    "    new_state_dict[name] = v\n",
    "\n",
    "# model.load_state_dict(new_state_dict)\n",
    "\n",
    "save_path = './model_wavernn.pth'\n",
    "torch.save(new_state_dict, save_path)\n",
    "\n",
    "model.load_state_dict(torch.load(save_path, map_location=device))"
   ]
  },
  {
   "cell_type": "code",
   "execution_count": null,
   "metadata": {},
   "outputs": [],
   "source": []
  }
 ],
 "metadata": {
  "kernelspec": {
   "display_name": "Python 3",
   "language": "python",
   "name": "python3"
  },
  "language_info": {
   "codemirror_mode": {
    "name": "ipython",
    "version": 3
   },
   "file_extension": ".py",
   "mimetype": "text/x-python",
   "name": "python",
   "nbconvert_exporter": "python",
   "pygments_lexer": "ipython3",
   "version": "3.7.6"
  }
 },
 "nbformat": 4,
 "nbformat_minor": 4
}
