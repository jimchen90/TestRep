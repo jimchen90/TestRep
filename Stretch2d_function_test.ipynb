{
 "cells": [
  {
   "cell_type": "code",
   "execution_count": 1,
   "metadata": {},
   "outputs": [],
   "source": [
    "import torch"
   ]
  },
  {
   "cell_type": "code",
   "execution_count": 2,
   "metadata": {},
   "outputs": [],
   "source": [
    "torch.manual_seed(10)\n",
    "x = torch.rand(2, 5, 4, 5)\n",
    "x_scale = 8\n",
    "y_scale = 16"
   ]
  },
  {
   "cell_type": "code",
   "execution_count": 3,
   "metadata": {},
   "outputs": [
    {
     "name": "stdout",
     "output_type": "stream",
     "text": [
      "torch.Size([2, 5, 64, 40])\n"
     ]
    }
   ],
   "source": [
    "n, c, s, t = x.size()\n",
    "y = x.unsqueeze(-1).unsqueeze(3)\n",
    "y = y.repeat(1, 1, 1, y_scale, 1, x_scale)\n",
    "y = y.view(n, c, s * y_scale, t * x_scale)\n",
    "print(y.size())"
   ]
  },
  {
   "cell_type": "code",
   "execution_count": 4,
   "metadata": {},
   "outputs": [
    {
     "name": "stdout",
     "output_type": "stream",
     "text": [
      "torch.Size([2, 5, 64, 40])\n"
     ]
    }
   ],
   "source": [
    "y1 = x.repeat_interleave(y_scale, 2).repeat_interleave(x_scale, 3)\n",
    "print(y1.size())"
   ]
  },
  {
   "cell_type": "code",
   "execution_count": 5,
   "metadata": {
    "scrolled": false
   },
   "outputs": [
    {
     "name": "stdout",
     "output_type": "stream",
     "text": [
      "tensor(0)\n"
     ]
    }
   ],
   "source": [
    "atol = 1e-10\n",
    "diff = abs(y1 - y)\n",
    "print((diff > atol).sum())"
   ]
  },
  {
   "cell_type": "code",
   "execution_count": null,
   "metadata": {},
   "outputs": [],
   "source": []
  }
 ],
 "metadata": {
  "kernelspec": {
   "display_name": "Python 3",
   "language": "python",
   "name": "python3"
  },
  "language_info": {
   "codemirror_mode": {
    "name": "ipython",
    "version": 3
   },
   "file_extension": ".py",
   "mimetype": "text/x-python",
   "name": "python",
   "nbconvert_exporter": "python",
   "pygments_lexer": "ipython3",
   "version": "3.7.6"
  }
 },
 "nbformat": 4,
 "nbformat_minor": 4
}
