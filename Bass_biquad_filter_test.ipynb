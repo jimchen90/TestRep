{
 "cells": [
  {
   "cell_type": "markdown",
   "metadata": {},
   "source": [
    "###### This file is to test the bass_biquad function and compare its result with SoX and MATLAB audio toolbox.\n",
    "\n",
    "The result summary:\n",
    "\n",
    "(1) The biquad coefficients calculated from bass_biquad and Matlab toolbox are the same (error < 1e-10).\n",
    "\n",
    "(2) The output waveform error (absolute value difference) between SoX and bass_biquad is 1e-3 for unormalized coefficients and 1.4e-4 for normalized coefficients.\n",
    "\n",
    "(3) When using `lfilter` function in `torchaudio/functional.py`, I input two groups of biquad coefficient parameters (one group is normalized by a0, and the other is unnormalized). The maximum error between two output waveforms is 6e-4.\n",
    "\n",
    "\n",
    "Test options and results:\n",
    "\n",
    "1) Compare biquad coefficients calculated by bass_biquad function and website calculator. Lowpass, highpass, bandpass, low shelf and high shelf biquad filters are tested to check if their coefficients match with website calculator.\n",
    "\n",
    "Result: The coefficients of lowpass, highpass and bandpass filters match with website calculator's result (error < 1e-10). The coefficients of low shelf and high shelf filters don't match with website's result. The reason is that in the website calculator, the coefficients are independent of input Q value for low and high shelf filters. The calculator has a default slope parameter S and then calculates its own Q value. In my code, Q value is a variable and S will be calculated accordingly.\n",
    "\n",
    "website calulator: https://www.earlevel.com/main/2013/10/13/biquad-calculator-v2/\n",
    "\n",
    "2) Calculate a simple corner case by hand to check if coefficients calculated by bass_biquad are correct:\n",
    "sample_rate = 44100, Central_frequency = 11025, Q = 1, Gain = 6\n",
    "\n",
    "Result: The calculation results by hand match with bass_biquad function results.\n",
    "\n",
    "3) Compare bass_biquad function with MATLAB audio system toolbox\n",
    "\n",
    "Result: The calculated coefficient result are exactly the same with MATLAB audio system toolbox (error < 1e-10).\n",
    "\n",
    "For treble biquad filter:\n",
    "Coefficients from bass_biquad:\n",
    "`[b0, b1, b2, a1, a2] =\n",
    "[1.1728093663351498 1.115899098850206 0.26024700972986287 1.195000148261586 0.3539553266536329]`\n",
    "\n",
    "Coefficients from MATLAB toolbox:\n",
    "`[b0, b1, b2, a1, a2] =\n",
    "[1.172809366335150 1.115899098850206 0.260247009729863 1.195000148261586 0.353955326653633]`\n",
    "\n",
    "For bass biquad filter:\n",
    "Coefficients from bass_biquad:\n",
    "`[b0, b1, b2, a1, a2] =\n",
    "[0.5877970818856679 0.5592743823599009 0.13043247886627984 1.1950001482615862 0.35395532665363294]`\n",
    "\n",
    "From matlab toolbox:\n",
    "`[b0, b1, b2, a1, a2] =\n",
    "[0.587797081885668 0.559274382359901 0.13043247886627980 1.195000148261586 0.353955326653633]`\n",
    "\n",
    "\n",
    "MATLAB audio system toolbox: https://www.mathworks.com/help/audio/ref/designshelvingeq.html\n",
    "\n",
    "4) Check SoX implementation with different input parameters (slope S, Q, and coefficients calculated by bass_biquad function)\n",
    "\n",
    "Result: For three input parameters, output waveforms are the same (error < 1e-10), which means the calculated coefficients from bass_biquad function and SoX uses are the same.\n",
    "\n",
    "`abs(SoX_output_waveform (s) - SoX_output_waveform (code's biquad coefficients)) < 1e-10\n",
    "abs(SoX_output_waveform (q) - SoX_output_waveform (code's biquad coefficients)) < 1e-10`\n",
    "\n",
    "\n",
    "Sox link: http://sox.sourceforge.net/sox.html\n",
    "https://www.w3.org/2011/audio/audio-eq-cookbook.html\n",
    "\n",
    "5) Compare output waveform error between code and sox for bass biquad filter. \n",
    "\n",
    "Result: \n",
    "The maximum error is at the level of 1e-3~1e-4 at edge cases:\n",
    "sample rate = 44100, s = 1, gain = 40, q = 0.707, fc = 1000.\n",
    "\n",
    "`abs(SoX_output_waveform - bass_biquad_ouput_waveform) ~ 1e-3`\n",
    "\n",
    "6) Compare result with and without coefficients normalization.\n",
    "\n",
    "Result:\n",
    "Compare to the error with SoX without coefficient normalization, the max error in bass_biquad function after coefficient normalization becomes smaller (from 1e-3 to 1.4e-4).\n",
    "\n",
    "Without normalization:\n",
    "`output_waveform1 = F.biquad(waveform, b0, b1, b2, a0, a1, a2);`\n",
    "\n",
    "With normalization:\n",
    "`output_waveform2 = F.biquad(waveform, b0/a0, b1/a0, b2/a0, 1, a1/a0, a2/a0)`\n",
    "\n",
    "`abs(output_waveform1 - output_waveform2) ~ 1e-4`\n",
    "\n",
    "7) Compare output waveforms after bass biquad filter between SoX, code and MATLAB toolbox\n",
    "\n",
    "Result:\n",
    "Three outputs are very close. In MATLAB toolbox, the max gain that can be set as 12 db, in this case, the max errors between three outputs are at the level of 1e-5.\n",
    "\n",
    "`abs(output_waveform_code - output_waveform_SoX) ~ 1e-5\n",
    "abs(output_waveform_code - output_waveform_Matlab) ~ 1e-5`"
   ]
  },
  {
   "cell_type": "code",
   "execution_count": 39,
   "metadata": {},
   "outputs": [],
   "source": [
    "import torch \n",
    "import torchaudio\n",
    "from torch import Tensor\n",
    "import torchaudio.functional_update as F\n",
    "import common_utils\n",
    "import matplotlib.pyplot as plt\n",
    "import IPython.display as ipd\n",
    "import math"
   ]
  },
  {
   "cell_type": "markdown",
   "metadata": {},
   "source": [
    "### 1. Compare coeffients by bass_biquad function and website calculator"
   ]
  },
  {
   "cell_type": "markdown",
   "metadata": {},
   "source": [
    "##### 1.1 Check lowpass coefficients by website calculator and bass_biquad calculation "
   ]
  },
  {
   "cell_type": "code",
   "execution_count": 2,
   "metadata": {},
   "outputs": [],
   "source": [
    "central_freq = 1000\n",
    "Q = .707\n",
    "gain = 6\n",
    "\n",
    "filename = 'steam-train-whistle-daniel_simon.mp3'\n",
    "#filename = 'sinewave.wav'\n",
    "noise_filepath = common_utils.get_asset_path(filename)\n",
    "waveform, sample_rate = torchaudio.load(noise_filepath, normalization=True)"
   ]
  },
  {
   "cell_type": "code",
   "execution_count": 3,
   "metadata": {},
   "outputs": [],
   "source": [
    "def lowpass_biquad(\n",
    "        waveform: Tensor,\n",
    "        sample_rate: int,\n",
    "        cutoff_freq: float,\n",
    "        Q: float = 0.707\n",
    ") -> Tensor:\n",
    "    r\"\"\"Design biquad lowpass filter and perform filtering.  Similar to SoX implementation.\n",
    "    Args:\n",
    "        waveform (torch.Tensor): audio waveform of dimension of `(..., time)`\n",
    "        sample_rate (int): sampling rate of the waveform, e.g. 44100 (Hz)\n",
    "        cutoff_freq (float): filter cutoff frequency\n",
    "        Q (float, optional): https://en.wikipedia.org/wiki/Q_factor (Default: ``0.707``)\n",
    "    Returns:\n",
    "        Tensor: Waveform of dimension of `(..., time)`\n",
    "    \"\"\"\n",
    "    w0 = 2 * math.pi * cutoff_freq / sample_rate\n",
    "    alpha = math.sin(w0) / 2 / Q\n",
    "\n",
    "    b0 = (1 - math.cos(w0)) / 2\n",
    "    b1 = 1 - math.cos(w0)\n",
    "    b2 = b0\n",
    "    a0 = 1 + alpha\n",
    "    a1 = -2 * math.cos(w0)\n",
    "    a2 = 1 - alpha\n",
    "    \n",
    "    print(b0/a0, b1/a0, b2/a0, a1/a0, a2/a0)\n",
    "    \n",
    "    #return biquad(waveform, b0, b1, b2, a0, a1, a2)"
   ]
  },
  {
   "cell_type": "code",
   "execution_count": 4,
   "metadata": {},
   "outputs": [
    {
     "name": "stdout",
     "output_type": "stream",
     "text": [
      "0.004603935028493071 0.009207870056986141 0.004603935028493071 -1.799071616595651 0.8174873567096231\n"
     ]
    }
   ],
   "source": [
    "lowpass_biquad(waveform, sample_rate, central_freq, Q)"
   ]
  },
  {
   "cell_type": "markdown",
   "metadata": {},
   "source": [
    "a0 = 0.00460393502849307\n",
    "a1 = 0.00920787005698614\n",
    "a2 = 0.00460393502849307\n",
    "b1 = -1.7990716165956508\n",
    "b2 = 0.8174873567096232\n",
    "\n",
    "Matched!  and try another set to double check"
   ]
  },
  {
   "cell_type": "code",
   "execution_count": 5,
   "metadata": {
    "scrolled": true
   },
   "outputs": [
    {
     "name": "stdout",
     "output_type": "stream",
     "text": [
      "0.27912547689603473 0.5582509537920695 0.27912547689603473 -0.4993148324732646 0.6158167400574035\n"
     ]
    }
   ],
   "source": [
    "sample_rate = 5000\n",
    "Q = 2\n",
    "lowpass_biquad(waveform, sample_rate, central_freq, Q)"
   ]
  },
  {
   "cell_type": "markdown",
   "metadata": {},
   "source": [
    "`a0 = 0.27912547689603473\n",
    "a1 = 0.5582509537920695\n",
    "a2 = 0.27912547689603473\n",
    "b1 = -0.49931483247326475\n",
    "b2 = 0.6158167400574036`\n",
    "\n",
    "\n",
    "Matched again!"
   ]
  },
  {
   "cell_type": "markdown",
   "metadata": {},
   "source": [
    "##### 1.2 Check highpass coefficients by website calculator and bass_biquad calculation"
   ]
  },
  {
   "cell_type": "code",
   "execution_count": 6,
   "metadata": {},
   "outputs": [],
   "source": [
    "central_freq = 10000\n",
    "Q = 1\n",
    "gain = 6\n",
    "sample_rate = 44100"
   ]
  },
  {
   "cell_type": "code",
   "execution_count": 7,
   "metadata": {},
   "outputs": [],
   "source": [
    "def highpass_biquad(\n",
    "        waveform: Tensor,\n",
    "        sample_rate: int,\n",
    "        cutoff_freq: float,\n",
    "        Q: float = 0.707\n",
    ") -> Tensor:\n",
    "    r\"\"\"Design biquad highpass filter and perform filtering.  Similar to SoX implementation.\n",
    "    Args:\n",
    "        waveform (Tensor): audio waveform of dimension of `(..., time)`\n",
    "        sample_rate (int): sampling rate of the waveform, e.g. 44100 (Hz)\n",
    "        cutoff_freq (float): filter cutoff frequency\n",
    "        Q (float, optional): https://en.wikipedia.org/wiki/Q_factor (Default: ``0.707``)\n",
    "    Returns:\n",
    "        Tensor: Waveform dimension of `(..., time)`\n",
    "    \"\"\"\n",
    "    w0 = 2 * math.pi * cutoff_freq / sample_rate\n",
    "    alpha = math.sin(w0) / 2. / Q\n",
    "\n",
    "    b0 = (1 + math.cos(w0)) / 2\n",
    "    b1 = -1 - math.cos(w0)\n",
    "    b2 = b0\n",
    "    a0 = 1 + alpha\n",
    "    a1 = -2 * math.cos(w0)\n",
    "    a2 = 1 - alpha\n",
    "    \n",
    "    print(b0/a0, b1/a0, b2/a0, a1/a0, a2/a0)\n",
    "\n",
    "    \n",
    "    #return F.biquad(waveform, b0, b1, b2, a0, a1, a2)"
   ]
  },
  {
   "cell_type": "code",
   "execution_count": 8,
   "metadata": {},
   "outputs": [
    {
     "name": "stdout",
     "output_type": "stream",
     "text": [
      "0.38319940325388924 -0.7663988065077785 0.38319940325388924 -0.19471651170319731 0.3380811013123595\n"
     ]
    }
   ],
   "source": [
    "highpass_biquad(waveform, sample_rate, central_freq, Q)"
   ]
  },
  {
   "cell_type": "markdown",
   "metadata": {},
   "source": [
    "`a0 = 0.3831994032538892\n",
    "a1 = -0.7663988065077784\n",
    "a2 = 0.3831994032538892\n",
    "b1 = -0.1947165117031973\n",
    "b2 = 0.33808110131235947\n",
    "`\n",
    "Matched, tried another set and also matched !"
   ]
  },
  {
   "cell_type": "markdown",
   "metadata": {},
   "source": [
    "##### 1.3 Check bandpass coefficients by website calculator and bass_biquad calculation "
   ]
  },
  {
   "cell_type": "code",
   "execution_count": 9,
   "metadata": {},
   "outputs": [],
   "source": [
    "def bandpass_biquad(\n",
    "        waveform: Tensor,\n",
    "        sample_rate: int,\n",
    "        central_freq: float,\n",
    "        Q: float = 0.707,\n",
    "        const_skirt_gain: bool = False\n",
    ") -> Tensor:\n",
    "    r\"\"\"Design two-pole band-pass filter.  Similar to SoX implementation.\n",
    "    Args:\n",
    "        waveform (Tensor): audio waveform of dimension of `(..., time)`\n",
    "        sample_rate (int): sampling rate of the waveform, e.g. 44100 (Hz)\n",
    "        central_freq (float): central frequency (in Hz)\n",
    "        Q (float, optional): https://en.wikipedia.org/wiki/Q_factor (Default: ``0.707``)\n",
    "        const_skirt_gain (bool, optional) : If ``True``, uses a constant skirt gain (peak gain = Q).\n",
    "            If ``False``, uses a constant 0dB peak gain. (Default: ``False``)\n",
    "    Returns:\n",
    "        Tensor: Waveform of dimension of `(..., time)`\n",
    "    References:\n",
    "        http://sox.sourceforge.net/sox.html\n",
    "        https://www.w3.org/2011/audio/audio-eq-cookbook.html#APF\n",
    "    \"\"\"\n",
    "    w0 = 2 * math.pi * central_freq / sample_rate\n",
    "    alpha = math.sin(w0) / 2 / Q\n",
    "\n",
    "    temp = math.sin(w0) / 2 if const_skirt_gain else alpha\n",
    "    b0 = temp\n",
    "    b1 = 0.\n",
    "    b2 = -temp\n",
    "    a0 = 1 + alpha\n",
    "    a1 = -2 * math.cos(w0)\n",
    "    a2 = 1 - alpha\n",
    "    \n",
    "    print(b0/a0, b1/a0, b2/a0, a1/a0, a2/a0)\n",
    "\n",
    "    #return biquad(waveform, b0, b1, b2, a0, a1, a2)\n"
   ]
  },
  {
   "cell_type": "code",
   "execution_count": 10,
   "metadata": {},
   "outputs": [],
   "source": [
    "central_freq = 10000\n",
    "Q = 1\n",
    "gain = 6\n",
    "sample_rate = 44100"
   ]
  },
  {
   "cell_type": "code",
   "execution_count": 11,
   "metadata": {},
   "outputs": [
    {
     "name": "stdout",
     "output_type": "stream",
     "text": [
      "0.33095944934382027 0.0 -0.33095944934382027 -0.19471651170319731 0.3380811013123595\n"
     ]
    }
   ],
   "source": [
    "bandpass_biquad(waveform, sample_rate, central_freq, Q)"
   ]
  },
  {
   "cell_type": "markdown",
   "metadata": {},
   "source": [
    "`a0 = 0.3309594493438202\n",
    "a1 = 0\n",
    "a2 = -0.3309594493438202\n",
    "b1 = -0.1947165117031973\n",
    "b2 = 0.33808110131235947\n",
    "`\n",
    "\n",
    "Matched, tried other set and also matched !"
   ]
  },
  {
   "cell_type": "markdown",
   "metadata": {},
   "source": [
    "##### 1. 4 Check high shelf coefficients by website calculator and bass_biquad calculation"
   ]
  },
  {
   "cell_type": "code",
   "execution_count": 12,
   "metadata": {},
   "outputs": [],
   "source": [
    "def treble_biquad(\n",
    "        waveform: Tensor,\n",
    "        sample_rate: int,\n",
    "        gain: float,\n",
    "        central_freq: float = 3000,\n",
    "        Q: float = 0.707\n",
    ") -> Tensor:\n",
    "    r\"\"\"Design a treble tone-control effect.  Similar to SoX implementation.\n",
    "    Args:\n",
    "        waveform (Tensor): audio waveform of dimension of `(..., time)`\n",
    "        sample_rate (int): sampling rate of the waveform, e.g. 44100 (Hz)\n",
    "        gain (float): desired gain at the boost (or attenuation) in dB.\n",
    "        central_freq (float, optional): central frequency (in Hz). (Default: ``3000``)\n",
    "        Q (float, optional): https://en.wikipedia.org/wiki/Q_factor (Default: ``0.707``).\n",
    "    Returns:\n",
    "        Tensor: Waveform of dimension of `(..., time)`\n",
    "    References:\n",
    "        http://sox.sourceforge.net/sox.html\n",
    "        https://www.w3.org/2011/audio/audio-eq-cookbook.html#APF\n",
    "    \"\"\"\n",
    "    w0 = 2 * math.pi * central_freq / sample_rate\n",
    "    alpha = math.sin(w0) / 2 / Q\n",
    "    A = math.exp(gain / 40 * math.log(10))\n",
    "\n",
    "    temp1 = 2 * math.sqrt(A) * alpha\n",
    "    temp2 = (A - 1) * math.cos(w0)\n",
    "    temp3 = (A + 1) * math.cos(w0)\n",
    "\n",
    "    b0 = A * ((A + 1) + temp2 + temp1)\n",
    "    b1 = -2 * A * ((A - 1) + temp3)\n",
    "    b2 = A * ((A + 1) + temp2 - temp1)\n",
    "    a0 = (A + 1) - temp2 + temp1\n",
    "    a1 = 2 * ((A - 1) - temp3)\n",
    "    a2 = (A + 1) - temp2 - temp1\n",
    "    \n",
    "    print(b0/a0, b1/a0, b2/a0, a1/a0, a2/a0)\n",
    "\n",
    "    #return biquad(waveform, b0, b1, b2, a0, a1, a2)"
   ]
  },
  {
   "cell_type": "code",
   "execution_count": 13,
   "metadata": {},
   "outputs": [],
   "source": [
    "central_freq = 18000\n",
    "gain = 6\n",
    "sample_rate = 44100\n",
    "Q = 1\n",
    "#A = math.exp(gain / 40 * math.log(10))\n",
    "#slope = 0.5\n",
    "#Q = 1/math.sqrt(A + 2 + 1/A)"
   ]
  },
  {
   "cell_type": "code",
   "execution_count": 14,
   "metadata": {},
   "outputs": [
    {
     "name": "stdout",
     "output_type": "stream",
     "text": [
      "1.1258190808574104 1.3346319052890663 0.5881376411661036 1.4292379358836353 0.6193506914289453\n"
     ]
    }
   ],
   "source": [
    "treble_biquad(waveform, sample_rate, gain, central_freq, Q)"
   ]
  },
  {
   "cell_type": "markdown",
   "metadata": {},
   "source": [
    "`a0 = 1.1729814928394098\n",
    "a1 = 1.0932923261729204\n",
    "a2 = 0.3865657418579309\n",
    "b1 = 1.209579276550885\n",
    "b2 = 0.4432602843193761\n",
    "`\n",
    "\n",
    "Not matched ! I found that in the calculator website, the coefficients are independent of Q value. It has a default slope parameter S that can calculate its own Q. And in our code, Q value is set and S can be calculated."
   ]
  },
  {
   "cell_type": "markdown",
   "metadata": {},
   "source": [
    "##### Check low shelf (bass) coefficients by website calculator and bass_biquad calculation"
   ]
  },
  {
   "cell_type": "code",
   "execution_count": 15,
   "metadata": {},
   "outputs": [],
   "source": [
    "def bass_biquad(\n",
    "        waveform: Tensor,\n",
    "        sample_rate: int,\n",
    "        gain: float,\n",
    "        central_freq: float = 100,\n",
    "        Q: float = 1\n",
    ") -> Tensor:\n",
    "    r\"\"\"Design a bass tone-control effect.  Similar to SoX implementation.\n",
    "    Args:\n",
    "        waveform (Tensor): audio waveform of dimension of `(..., time)`\n",
    "        sample_rate (int): sampling rate of the waveform, e.g. 44100 (Hz)\n",
    "        gain (float): desired gain at the boost (or attenuation) in dB.\n",
    "        central_freq (float, optional): central frequency (in Hz). (Default: ``100``)\n",
    "        Q (float, optional): https://en.wikipedia.org/wiki/Q_factor (Default: ``0.707``).\n",
    "    Returns:\n",
    "        Tensor: Waveform of dimension of `(..., time)`\n",
    "    References:\n",
    "        http://sox.sourceforge.net/sox.html\n",
    "        https://www.w3.org/2011/audio/audio-eq-cookbook.html#APF\n",
    "    \"\"\"\n",
    "    w0 = 2 * math.pi * central_freq / sample_rate\n",
    "    alpha = math.sin(w0) / 2 / Q\n",
    "    A = math.exp(gain / 40 * math.log(10))\n",
    "\n",
    "    temp1 = 2 * math.sqrt(A) * alpha\n",
    "    temp2 = (A - 1) * math.cos(w0)\n",
    "    temp3 = (A + 1) * math.cos(w0)\n",
    "\n",
    "    b0 = A * ((A + 1) - temp2 + temp1)\n",
    "    b1 = 2 * A * ((A - 1) - temp3)\n",
    "    b2 = A * ((A + 1) - temp2 - temp1)\n",
    "    a0 = (A + 1) + temp2 + temp1\n",
    "    a1 = -2 * ((A - 1) + temp3)\n",
    "    a2 = (A + 1) + temp2 - temp1\n",
    "    \n",
    "    print(b0/a0, b1/a0, b2/a0, a1/a0, a2/a0)"
   ]
  },
  {
   "cell_type": "code",
   "execution_count": 16,
   "metadata": {},
   "outputs": [],
   "source": [
    "central_freq = 10000\n",
    "Q = 1\n",
    "gain = 6\n",
    "sample_rate = 44100"
   ]
  },
  {
   "cell_type": "code",
   "execution_count": 17,
   "metadata": {},
   "outputs": [
    {
     "name": "stdout",
     "output_type": "stream",
     "text": [
      "1.3660529664289085 0.047595611249911476 0.4555582896232585 -0.4185965129510136 0.355419131851242\n"
     ]
    }
   ],
   "source": [
    "bass_biquad(waveform, sample_rate, gain, central_freq, Q)"
   ]
  },
  {
   "cell_type": "markdown",
   "metadata": {},
   "source": [
    "`a0 = 1.4199974570112823\n",
    "a1 = 0.32913667880445635\n",
    "a2 = 0.25714197787478704\n",
    "b1 = -0.17124139038429181\n",
    "b2 = 0.1767613656973212\n",
    "`\n",
    "\n",
    "Not matched ! Same reason as mentioned in treble filter"
   ]
  },
  {
   "cell_type": "markdown",
   "metadata": {},
   "source": [
    "### 2. Compare bass_biquad function with MATLAB audio system toolbox"
   ]
  },
  {
   "cell_type": "markdown",
   "metadata": {},
   "source": [
    "Now I find the Matlab audio toolbox that can also implement biquad filters. https://www.mathworks.com/help/audio/ref/designshelvingeq.html#d120e24679 \n",
    "\n",
    "Here I compare the coefficients of code result and matlab result for treble and bass filters. Both are matched (error < 1e-10)."
   ]
  },
  {
   "cell_type": "markdown",
   "metadata": {},
   "source": [
    "###### 2.1 Test the coefficients of treble (high-shelf) filter"
   ]
  },
  {
   "cell_type": "code",
   "execution_count": 18,
   "metadata": {
    "scrolled": true
   },
   "outputs": [
    {
     "name": "stdout",
     "output_type": "stream",
     "text": [
      "1.1728093663351498 1.115899098850206 0.26024700972986287 1.195000148261586 0.3539553266536329\n"
     ]
    }
   ],
   "source": [
    "central_freq = 18000\n",
    "gain = 6\n",
    "sample_rate = 44100\n",
    "\n",
    "A = math.exp(gain / 40 * math.log(10))\n",
    "slope = 0.5\n",
    "Q = 1/math.sqrt(A + 2 + 1/A)\n",
    "\n",
    "treble_biquad(waveform, sample_rate, gain, central_freq, Q)"
   ]
  },
  {
   "cell_type": "markdown",
   "metadata": {},
   "source": [
    "In matlab code:\n",
    "\n",
    "`Fs = 44.1e3;\n",
    "gain = 6;\n",
    "slope = 0.5;\n",
    "central_freq = 18000 \n",
    "\n",
    "Fc = central_freq/(Fs/2);\n",
    "\n",
    "[B,A] = designShelvingEQ(gain,slope,Fc,'hi');\n",
    "`\n",
    "\n",
    "result:\n",
    "`1.172809366335150 1.115899098850206 0.260247009729863 1.195000148261586 0.353955326653633`\n",
    " \n",
    "Matched! I also double check different sets and all are matched!"
   ]
  },
  {
   "cell_type": "markdown",
   "metadata": {},
   "source": [
    "###### 2.2 Test the coefficients of bass (low-shelf) filter"
   ]
  },
  {
   "cell_type": "code",
   "execution_count": 19,
   "metadata": {},
   "outputs": [],
   "source": [
    "def bass_biquad(\n",
    "        waveform: Tensor,\n",
    "        sample_rate: int,\n",
    "        gain: float,\n",
    "        central_freq: float = 100,\n",
    "        Q: float = 1\n",
    ") -> Tensor:\n",
    "    r\"\"\"Design a bass tone-control effect.  Similar to SoX implementation.\n",
    "    Args:\n",
    "        waveform (Tensor): audio waveform of dimension of `(..., time)`\n",
    "        sample_rate (int): sampling rate of the waveform, e.g. 44100 (Hz)\n",
    "        gain (float): desired gain at the boost (or attenuation) in dB.\n",
    "        central_freq (float, optional): central frequency (in Hz). (Default: ``100``)\n",
    "        Q (float, optional): https://en.wikipedia.org/wiki/Q_factor (Default: ``0.707``).\n",
    "    Returns:\n",
    "        Tensor: Waveform of dimension of `(..., time)`\n",
    "    References:\n",
    "        http://sox.sourceforge.net/sox.html\n",
    "        https://www.w3.org/2011/audio/audio-eq-cookbook.html#APF\n",
    "    \"\"\"\n",
    "    w0 = 2 * math.pi * central_freq / sample_rate\n",
    "    alpha = math.sin(w0) / 2 / Q\n",
    "    A = math.exp(gain / 40 * math.log(10))\n",
    "\n",
    "    temp1 = 2 * math.sqrt(A) * alpha\n",
    "    temp2 = (A - 1) * math.cos(w0)\n",
    "    temp3 = (A + 1) * math.cos(w0)\n",
    "\n",
    "    b0 = A * ((A + 1) - temp2 + temp1)\n",
    "    b1 = 2 * A * ((A - 1) - temp3)\n",
    "    b2 = A * ((A + 1) - temp2 - temp1)\n",
    "    a0 = (A + 1) + temp2 + temp1\n",
    "    a1 = -2 * ((A - 1) + temp3)\n",
    "    a2 = (A + 1) + temp2 - temp1\n",
    "    \n",
    "    print(b0/a0, b1/a0, b2/a0, a1/a0, a2/a0)\n",
    "\n",
    "    #return F.biquad(waveform, b0, b1, b2, a0, a1, a2)"
   ]
  },
  {
   "cell_type": "code",
   "execution_count": 20,
   "metadata": {},
   "outputs": [
    {
     "name": "stdout",
     "output_type": "stream",
     "text": [
      "0.5877970818856679 0.5592743823599009 0.13043247886627984 1.1950001482615862 0.35395532665363294\n"
     ]
    }
   ],
   "source": [
    "central_freq = 18000\n",
    "gain = -6\n",
    "sample_rate = 44100\n",
    "\n",
    "A = math.exp(gain / 40 * math.log(10))\n",
    "slope = 0.5\n",
    "Q = 1/math.sqrt(A + 2 + 1/A)\n",
    "\n",
    "bass_biquad(waveform, sample_rate, gain, central_freq, Q)"
   ]
  },
  {
   "cell_type": "markdown",
   "metadata": {},
   "source": [
    "Matlab result:\n",
    "\n",
    "Fs = 44.1e3;\n",
    "gain = -6;\n",
    "slope = 0.5;\n",
    "central_freq = 18000 \n",
    "\n",
    "Fc = central_freq/(Fs/2);\n",
    "\n",
    "[B,A] = designShelvingEQ(gain,slope,Fc,'lo');\n",
    "\n",
    "`\n",
    "0.587797081885668 0.559274382359901 0.13043247886627980 1.195000148261586 0.353955326653633`"
   ]
  },
  {
   "cell_type": "markdown",
   "metadata": {},
   "source": [
    "Matched! Different sets are also matched."
   ]
  },
  {
   "cell_type": "code",
   "execution_count": null,
   "metadata": {},
   "outputs": [],
   "source": []
  },
  {
   "cell_type": "markdown",
   "metadata": {},
   "source": [
    "### 3. Check SoX implementation with different input parameters (slope S, Q, and coefficients calculated by bass_biquad function)"
   ]
  },
  {
   "cell_type": "markdown",
   "metadata": {},
   "source": [
    "Firstly, I calculate the errors between SoX and bass_biquad results for treble and bass filters. For further analysis, the performance is measured by the count of elements with error larger than atol = 1e-4. \n",
    "\n",
    "Then I put slope, Q and biquad coefficients into SoX individually and see the result differences"
   ]
  },
  {
   "cell_type": "code",
   "execution_count": 21,
   "metadata": {},
   "outputs": [],
   "source": [
    "def treble_biquad(\n",
    "        waveform: Tensor,\n",
    "        sample_rate: int,\n",
    "        gain: float,\n",
    "        central_freq: float = 3000,\n",
    "        Q: float = 0.707\n",
    ") -> Tensor:\n",
    "    r\"\"\"Design a treble tone-control effect.  Similar to SoX implementation.\n",
    "    Args:\n",
    "        waveform (Tensor): audio waveform of dimension of `(..., time)`\n",
    "        sample_rate (int): sampling rate of the waveform, e.g. 44100 (Hz)\n",
    "        gain (float): desired gain at the boost (or attenuation) in dB.\n",
    "        central_freq (float, optional): central frequency (in Hz). (Default: ``3000``)\n",
    "        Q (float, optional): https://en.wikipedia.org/wiki/Q_factor (Default: ``0.707``).\n",
    "    Returns:\n",
    "        Tensor: Waveform of dimension of `(..., time)`\n",
    "    References:\n",
    "        http://sox.sourceforge.net/sox.html\n",
    "        https://www.w3.org/2011/audio/audio-eq-cookbook.html#APF\n",
    "    \"\"\"\n",
    "    w0 = 2 * math.pi * central_freq / sample_rate\n",
    "    alpha = math.sin(w0) / 2 / Q\n",
    "    A = math.exp(gain / 40 * math.log(10))\n",
    "\n",
    "    temp1 = 2 * math.sqrt(A) * alpha\n",
    "    temp2 = (A - 1) * math.cos(w0)\n",
    "    temp3 = (A + 1) * math.cos(w0)\n",
    "\n",
    "    b0 = A * ((A + 1) + temp2 + temp1)\n",
    "    b1 = -2 * A * ((A - 1) + temp3)\n",
    "    b2 = A * ((A + 1) + temp2 - temp1)\n",
    "    a0 = (A + 1) - temp2 + temp1\n",
    "    a1 = 2 * ((A - 1) - temp3)\n",
    "    a2 = (A + 1) - temp2 - temp1\n",
    "    return F.biquad(waveform, b0, b1, b2, a0, a1, a2)\n",
    "\n",
    "    #return F.biquad(waveform, b0/a0, b1/a0, b2/a0, a0/a0, a1/a0, a2/a0)"
   ]
  },
  {
   "cell_type": "code",
   "execution_count": 22,
   "metadata": {},
   "outputs": [],
   "source": [
    "central_freq = 1000\n",
    "q = 0.707\n",
    "gain = 40\n",
    "#s = 0.5\n",
    "#filename = 'steam-train-whistle-daniel_simon.mp3'\n",
    "#filename = 'sinewave.wav'\n",
    "filename = 'whitenoise.wav'\n",
    "noise_filepath = common_utils.get_asset_path(filename)\n",
    "E = torchaudio.sox_effects.SoxEffectsChain()\n",
    "E.set_input_file(noise_filepath)\n",
    "E.append_effect_to_chain(\"treble\", [gain, central_freq, str(q) + 'q'])\n",
    "sox_output_waveform, sr = E.sox_build_flow_effects()\n",
    "\n",
    "waveform, sample_rate = torchaudio.load(noise_filepath, normalization=True)\n",
    "output_waveform = treble_biquad(waveform, sample_rate, gain, central_freq, q)\n",
    "#self.assertEqual(output_waveform, sox_output_waveform, atol=1e-4, rtol=1e-5)"
   ]
  },
  {
   "cell_type": "code",
   "execution_count": 23,
   "metadata": {},
   "outputs": [
    {
     "name": "stdout",
     "output_type": "stream",
     "text": [
      "tensor(0)\n"
     ]
    }
   ],
   "source": [
    "# Test the treble biquad filter \n",
    "atol = 1e-4\n",
    "diff = abs(output_waveform - sox_output_waveform)\n",
    "print((diff > atol).sum())"
   ]
  },
  {
   "cell_type": "code",
   "execution_count": 24,
   "metadata": {},
   "outputs": [],
   "source": [
    "def bass_biquad(\n",
    "        waveform: Tensor,\n",
    "        sample_rate: int,\n",
    "        gain: float,\n",
    "        central_freq: float = 100,\n",
    "        Q: float = 1\n",
    ") -> Tensor:\n",
    "    r\"\"\"Design a bass tone-control effect.  Similar to SoX implementation.\n",
    "    Args:\n",
    "        waveform (Tensor): audio waveform of dimension of `(..., time)`\n",
    "        sample_rate (int): sampling rate of the waveform, e.g. 44100 (Hz)\n",
    "        gain (float): desired gain at the boost (or attenuation) in dB.\n",
    "        central_freq (float, optional): central frequency (in Hz). (Default: ``100``)\n",
    "        Q (float, optional): https://en.wikipedia.org/wiki/Q_factor (Default: ``0.707``).\n",
    "    Returns:\n",
    "        Tensor: Waveform of dimension of `(..., time)`\n",
    "    References:\n",
    "        http://sox.sourceforge.net/sox.html\n",
    "        https://www.w3.org/2011/audio/audio-eq-cookbook.html#APF\n",
    "    \"\"\"\n",
    "    w0 = 2 * math.pi * central_freq / sample_rate\n",
    "    alpha = math.sin(w0) / 2 / Q\n",
    "    A = math.exp(gain / 40 * math.log(10))\n",
    "\n",
    "    temp1 = 2 * math.sqrt(A) * alpha\n",
    "    temp2 = (A - 1) * math.cos(w0)\n",
    "    temp3 = (A + 1) * math.cos(w0)\n",
    "\n",
    "    b0 = A * ((A + 1) - temp2 + temp1)\n",
    "    b1 = 2 * A * ((A - 1) - temp3)\n",
    "    b2 = A * ((A + 1) - temp2 - temp1)\n",
    "    a0 = (A + 1) + temp2 + temp1\n",
    "    a1 = -2 * ((A - 1) + temp3)\n",
    "    a2 = (A + 1) + temp2 - temp1\n",
    "    \n",
    "    #print(b0/a0, b1/a0, b2/a0, a1/a0, a2/a0)\n",
    "    return F.biquad(waveform, b0, b1, b2, a0, a1, a2)\n",
    "    #return F.biquad(waveform, b0/a0, b1/a0, b2/a0, a0/a0, a1/a0, a2/a0)"
   ]
  },
  {
   "cell_type": "code",
   "execution_count": 25,
   "metadata": {},
   "outputs": [],
   "source": [
    "central_freq = 1000\n",
    "q = 0.707\n",
    "gain = 40\n",
    "#s = 0.5\n",
    "#filename = 'steam-train-whistle-daniel_simon.mp3'\n",
    "#filename = 'sinewave.wav'\n",
    "filename = 'whitenoise.wav'\n",
    "noise_filepath = common_utils.get_asset_path(filename)\n",
    "E = torchaudio.sox_effects.SoxEffectsChain()\n",
    "E.set_input_file(noise_filepath)\n",
    "E.append_effect_to_chain(\"bass\", [gain, central_freq, str(q) + 'q'])\n",
    "sox_output_waveform, sr = E.sox_build_flow_effects()\n",
    "\n",
    "waveform, sample_rate = torchaudio.load(noise_filepath, normalization=True)\n",
    "output_waveform = bass_biquad(waveform, sample_rate, gain, central_freq, q)\n",
    "#self.assertEqual(output_waveform, sox_output_waveform, atol=1e-4, rtol=1e-5)"
   ]
  },
  {
   "cell_type": "code",
   "execution_count": 26,
   "metadata": {},
   "outputs": [
    {
     "name": "stdout",
     "output_type": "stream",
     "text": [
      "tensor(20161)\n"
     ]
    }
   ],
   "source": [
    "# Test bass treble biquad filter \n",
    "atol = 1e-4\n",
    "diff = abs(output_waveform - sox_output_waveform)\n",
    "print((diff > atol).sum())"
   ]
  },
  {
   "cell_type": "markdown",
   "metadata": {},
   "source": [
    "For bass filters, in order to check if SoX and my code have same coefficients, I input different inputs (q, s and biquad coefficients from bass_biquad function) to SoX and check the differences between the outpt waveforms."
   ]
  },
  {
   "cell_type": "code",
   "execution_count": 27,
   "metadata": {},
   "outputs": [],
   "source": [
    "def bass_biquad_coeff(\n",
    "        waveform: Tensor,\n",
    "        sample_rate: int,\n",
    "        gain: float,\n",
    "        central_freq: float = 100,\n",
    "        Q: float = 1\n",
    ") -> Tensor:\n",
    "    r\"\"\"Design a bass tone-control effect.  Similar to SoX implementation.\n",
    "    Args:\n",
    "        waveform (Tensor): audio waveform of dimension of `(..., time)`\n",
    "        sample_rate (int): sampling rate of the waveform, e.g. 44100 (Hz)\n",
    "        gain (float): desired gain at the boost (or attenuation) in dB.\n",
    "        central_freq (float, optional): central frequency (in Hz). (Default: ``100``)\n",
    "        Q (float, optional): https://en.wikipedia.org/wiki/Q_factor (Default: ``0.707``).\n",
    "    Returns:\n",
    "        Tensor: Waveform of dimension of `(..., time)`\n",
    "    References:\n",
    "        http://sox.sourceforge.net/sox.html\n",
    "        https://www.w3.org/2011/audio/audio-eq-cookbook.html#APF\n",
    "    \"\"\"\n",
    "    w0 = 2 * math.pi * central_freq / sample_rate\n",
    "    alpha = math.sin(w0) / 2 / Q\n",
    "    A = math.exp(gain / 40 * math.log(10))\n",
    "\n",
    "    temp1 = 2 * math.sqrt(A) * alpha\n",
    "    temp2 = (A - 1) * math.cos(w0)\n",
    "    temp3 = (A + 1) * math.cos(w0)\n",
    "\n",
    "    b0 = A * ((A + 1) - temp2 + temp1)\n",
    "    b1 = 2 * A * ((A - 1) - temp3)\n",
    "    b2 = A * ((A + 1) - temp2 - temp1)\n",
    "    a0 = (A + 1) + temp2 + temp1\n",
    "    a1 = -2 * ((A - 1) + temp3)\n",
    "    a2 = (A + 1) + temp2 - temp1\n",
    "    return [b0, b1, b2, a0, a1, a2]\n",
    "    #return [b0/a0, b1/a0, b2/a0, 1, a1/a0, a2/a0]"
   ]
  },
  {
   "cell_type": "code",
   "execution_count": 28,
   "metadata": {},
   "outputs": [
    {
     "name": "stdout",
     "output_type": "stream",
     "text": [
      "0.7071067811865475\n",
      "1.3270219250069244 -1.8385497216920241 0.7088138842796521 1 -1.9362063350513272 0.9381791959272727\n"
     ]
    }
   ],
   "source": [
    "central_freq = 1000\n",
    "#q = 0.707\n",
    "gain = 40\n",
    "\n",
    "'''\n",
    "width determines how steep is the filter’s shelf transition. \n",
    "In addition to the common width specification methods described above, \n",
    "‘slope’ (the default, or if appended with ‘s’) may be used. \n",
    "The useful range of ‘slope’ is about 0.3, for a gentle slope, to 1 (the maximum), \n",
    "for a steep slope; the default value is 0.5. \n",
    "'''\n",
    "s = 1 \n",
    "\n",
    "A = math.exp(gain / 40 * math.log(10))\n",
    "q = 1/math.sqrt(2 + (A + 1/A) * (1/s - 1))\n",
    "print(q)\n",
    "filename = 'whitenoise.wav'\n",
    "noise_filepath = common_utils.get_asset_path(filename)\n",
    "\n",
    "# input q in sox\n",
    "E = torchaudio.sox_effects.SoxEffectsChain()\n",
    "E.set_input_file(noise_filepath)\n",
    "E.append_effect_to_chain(\"bass\", [gain, central_freq, str(q) + 'q'])\n",
    "sox_output_waveform_q, sr = E.sox_build_flow_effects()\n",
    "\n",
    "# input s in sox\n",
    "E = torchaudio.sox_effects.SoxEffectsChain()\n",
    "E.set_input_file(noise_filepath)\n",
    "E.append_effect_to_chain(\"bass\", [gain, central_freq, str(s) + 's'])\n",
    "sox_output_waveform_s, sr = E.sox_build_flow_effects()\n",
    "\n",
    "# input biquad coefficients from our code in sox\n",
    "coeff = bass_biquad_coeff(waveform, sample_rate, gain, central_freq, q)\n",
    "\n",
    "E = torchaudio.sox_effects.SoxEffectsChain()\n",
    "E.set_input_file(noise_filepath)\n",
    "E.append_effect_to_chain(\"biquad\", coeff)\n",
    "sox_output_waveform_biquad, sr = E.sox_build_flow_effects()\n",
    "\n",
    "# Above three output waveforms are strictly same !\n",
    "\n",
    "waveform, sample_rate = torchaudio.load(noise_filepath, normalization=True)\n",
    "output_waveform = bass_biquad(waveform, sample_rate, gain, central_freq, q)\n",
    "\n",
    "# Normalized and Unnormalized coefficients\n",
    "[b0, b1, b2, a0, a1, a2] = bass_biquad_coeff(waveform, sample_rate, gain, central_freq, q)\n",
    "print(b0/a0, b1/a0, b2/a0, 1, a1/a0, a2/a0)\n",
    "output_waveform1 = F.biquad(waveform, b0, b1, b2, a0, a1, a2)\n",
    "output_waveform2 = F.biquad(waveform, b0/a0, b1/a0, b2/a0, 1, a1/a0, a2/a0)\n",
    "\n",
    "# these two outputs are different! Compared to SoX result, the second result is better (max error = 1.4e-4).\n"
   ]
  },
  {
   "cell_type": "code",
   "execution_count": 29,
   "metadata": {},
   "outputs": [
    {
     "name": "stdout",
     "output_type": "stream",
     "text": [
      "tensor(0)\n"
     ]
    }
   ],
   "source": [
    "atol = 1e-10\n",
    "diff = abs(sox_output_waveform_biquad - sox_output_waveform_s)\n",
    "#diff = abs(sox_output_waveform_biquad - sox_output_waveform_q)\n",
    "\n",
    "print((diff > atol).sum())"
   ]
  },
  {
   "cell_type": "code",
   "execution_count": 30,
   "metadata": {},
   "outputs": [
    {
     "name": "stdout",
     "output_type": "stream",
     "text": [
      "tensor(12603)\n"
     ]
    }
   ],
   "source": [
    "atol = 1e-4\n",
    "diff = abs(output_waveform1 - output_waveform2)\n",
    "print((diff > atol).sum())"
   ]
  },
  {
   "cell_type": "code",
   "execution_count": 31,
   "metadata": {},
   "outputs": [
    {
     "name": "stdout",
     "output_type": "stream",
     "text": [
      "tensor(0)\n"
     ]
    }
   ],
   "source": [
    "atol = 1.5e-4\n",
    "diff = abs(sox_output_waveform_biquad - output_waveform2)\n",
    "print((diff > atol).sum())"
   ]
  },
  {
   "cell_type": "markdown",
   "metadata": {},
   "source": [
    "This test shows that the coeffients input to SoX and bass_biquad function are same. Nomalized coefficients introduce smaller error for bass filter. To double check this, biquad is calculated by lfilter function. I test the result of lfilter function again as below."
   ]
  },
  {
   "cell_type": "markdown",
   "metadata": {},
   "source": [
    "### 4. Compare result with and without coefficients normalization."
   ]
  },
  {
   "cell_type": "code",
   "execution_count": 32,
   "metadata": {},
   "outputs": [
    {
     "name": "stdout",
     "output_type": "stream",
     "text": [
      "tensor(12603)\n"
     ]
    }
   ],
   "source": [
    "[b0, b1, b2, a0, a1, a2] = bass_biquad_coeff(waveform, sample_rate, gain, central_freq, q)\n",
    "device = waveform.device\n",
    "dtype = waveform.dtype\n",
    "\n",
    "output_waveform1 = F.lfilter(\n",
    "        waveform,\n",
    "        torch.tensor([a0, a1, a2], dtype=dtype, device=device),\n",
    "        torch.tensor([b0, b1, b2], dtype=dtype, device=device),\n",
    "        clamp = True\n",
    "    )\n",
    "\n",
    "output_waveform2 = F.lfilter(\n",
    "        waveform,\n",
    "        torch.tensor([a0/a0, a1/a0, a2/a0], dtype=dtype, device=device),\n",
    "        torch.tensor([b0/a0, b1/a0, b2/a0], dtype=dtype, device=device),\n",
    "        clamp = True\n",
    "\n",
    "    )\n",
    "\n",
    "\n",
    "atol = 1e-4\n",
    "diff = abs(output_waveform2 - output_waveform1)\n",
    "print((diff > atol).sum())"
   ]
  },
  {
   "cell_type": "code",
   "execution_count": 33,
   "metadata": {},
   "outputs": [
    {
     "name": "stdout",
     "output_type": "stream",
     "text": [
      "tensor(0)\n"
     ]
    }
   ],
   "source": [
    "atol = 1.5e-4\n",
    "diff = abs(output_waveform2 - sox_output_waveform_s)\n",
    "print((diff > atol).sum())"
   ]
  },
  {
   "cell_type": "markdown",
   "metadata": {},
   "source": [
    "### 5. Compare output waveforms between SoX, code and Matlab toolbox"
   ]
  },
  {
   "cell_type": "code",
   "execution_count": 34,
   "metadata": {},
   "outputs": [
    {
     "name": "stdout",
     "output_type": "stream",
     "text": [
      "tensor([[-0.9010, -0.9252, -0.8271, -0.5863, -0.9767,  0.2632, -0.9477, -0.9332]])\n",
      "tensor([[-0.9008, -0.9253, -0.8273, -0.5864, -0.9768,  0.2633, -0.9478, -0.9333]])\n",
      "tensor([[-0.0001,  0.0001,  0.0001,  0.0001,  0.0001, -0.0001,  0.0001,  0.0001]])\n"
     ]
    }
   ],
   "source": [
    "\n",
    "'''\n",
    "Parameters for SoX, code and matlab toolbox:\n",
    "central_freq = 1000\n",
    "gain = 40\n",
    "s = 1 \n",
    "A = math.exp(gain / 40 * math.log(10))\n",
    "q = 1/math.sqrt(2 + (A + 1/A) * (1/s - 1)) \n",
    "# q = 0.707\n",
    "'''\n",
    "# Find first 8 elements with largest errors\n",
    "value, index = torch.topk(abs(sox_output_waveform_biquad-output_waveform2), 8)\n",
    "print(sox_output_waveform_biquad[0, index])\n",
    "print(output_waveform2[0, index])\n",
    "print(sox_output_waveform_biquad[0, index] - output_waveform2[0, index])"
   ]
  },
  {
   "cell_type": "code",
   "execution_count": 35,
   "metadata": {},
   "outputs": [
    {
     "name": "stdout",
     "output_type": "stream",
     "text": [
      "tensor([[-0.9010, -0.9252, -0.8271, -0.5863, -0.9767,  0.2632, -0.9477, -0.9332]])\n",
      "tensor([[-0.9008, -0.9253, -0.8273, -0.5864, -0.9768,  0.2633, -0.9478, -0.9333]])\n",
      "tensor([[-0.0001,  0.0001,  0.0001,  0.0001,  0.0001, -0.0001,  0.0001,  0.0001]])\n",
      "tensor([-0.1855,  0.0592, -0.6334, -1.0000, -0.2192,  0.1155,  0.4404,  0.9970]) tensor([-0.1855,  0.0592, -0.6334, -1.0000, -0.2192,  0.1155,  0.4404,  0.9970])\n",
      "tensor(True)\n"
     ]
    }
   ],
   "source": [
    "# Compare three output waveforms for gain = 10 db\n",
    "# Firstly change gain to an example of 10 db because the max gain is 12 db in matlab toobox.\n",
    "\n",
    "'''\n",
    "gain = 10\n",
    "'''\n",
    "\n",
    "value, index = torch.topk(abs(sox_output_waveform_biquad-output_waveform2), 8)\n",
    "print(sox_output_waveform_biquad[0, index])\n",
    "print(output_waveform2[0, index])\n",
    "print(sox_output_waveform_biquad[0, index] - output_waveform2[0, index])\n",
    "\n",
    "print(output_waveform2[0, 0:8], sox_output_waveform_biquad[0, 0:8])\n",
    "\n",
    "matlab_res = [0.1482055675, 0.11175017674, -0.48174034477, -0.75495056776, 0.414173566182,\n",
    "             0.56533516912, 0.60206182193, 0.767192813403, 0.377428142554, 0.328867691928]\n",
    "\n",
    "# check if result of matlab toolbox close to result of sox or my code\n",
    "index_check = 1\n",
    "print(abs(output_waveform2[0, index_check] - matlab_res[index_check]) > abs(sox_output_waveform_biquad[0, index_check] - matlab_res[index_check]))"
   ]
  },
  {
   "cell_type": "markdown",
   "metadata": {},
   "source": [
    "The code result matches with SoX and matlab code. The error increases when gain increases ( 1.4e-4 at edge case: gain = 40, slope = 1, Q = 0.707, fc = 1000)."
   ]
  },
  {
   "cell_type": "markdown",
   "metadata": {},
   "source": [
    "### 6. Test other filters with normalized coefficients"
   ]
  },
  {
   "cell_type": "code",
   "execution_count": 36,
   "metadata": {},
   "outputs": [],
   "source": [
    "def treble_biquad(\n",
    "        waveform: Tensor,\n",
    "        sample_rate: int,\n",
    "        gain: float,\n",
    "        central_freq: float = 3000,\n",
    "        Q: float = 0.707\n",
    ") -> Tensor:\n",
    "    r\"\"\"Design a treble tone-control effect.  Similar to SoX implementation.\n",
    "    Args:\n",
    "        waveform (Tensor): audio waveform of dimension of `(..., time)`\n",
    "        sample_rate (int): sampling rate of the waveform, e.g. 44100 (Hz)\n",
    "        gain (float): desired gain at the boost (or attenuation) in dB.\n",
    "        central_freq (float, optional): central frequency (in Hz). (Default: ``3000``)\n",
    "        Q (float, optional): https://en.wikipedia.org/wiki/Q_factor (Default: ``0.707``).\n",
    "    Returns:\n",
    "        Tensor: Waveform of dimension of `(..., time)`\n",
    "    References:\n",
    "        http://sox.sourceforge.net/sox.html\n",
    "        https://www.w3.org/2011/audio/audio-eq-cookbook.html#APF\n",
    "    \"\"\"\n",
    "    w0 = 2 * math.pi * central_freq / sample_rate\n",
    "    alpha = math.sin(w0) / 2 / Q\n",
    "    A = math.exp(gain / 40 * math.log(10))\n",
    "\n",
    "    temp1 = 2 * math.sqrt(A) * alpha\n",
    "    temp2 = (A - 1) * math.cos(w0)\n",
    "    temp3 = (A + 1) * math.cos(w0)\n",
    "\n",
    "    b0 = A * ((A + 1) + temp2 + temp1)\n",
    "    b1 = -2 * A * ((A - 1) + temp3)\n",
    "    b2 = A * ((A + 1) + temp2 - temp1)\n",
    "    a0 = (A + 1) - temp2 + temp1\n",
    "    a1 = 2 * ((A - 1) - temp3)\n",
    "    a2 = (A + 1) - temp2 - temp1\n",
    "    return F.biquad(waveform, b0, b1, b2, a0, a1, a2)\n",
    "\n",
    "    #return F.biquad(waveform, b0/a0, b1/a0, b2/a0, a0/a0, a1/a0, a2/a0)"
   ]
  },
  {
   "cell_type": "code",
   "execution_count": 37,
   "metadata": {},
   "outputs": [],
   "source": [
    "central_freq = 1000\n",
    "q = 0.707\n",
    "gain = 40\n",
    "#s = 0.5\n",
    "#filename = 'steam-train-whistle-daniel_simon.mp3'\n",
    "#filename = 'sinewave.wav'\n",
    "filename = 'whitenoise.wav'\n",
    "noise_filepath = common_utils.get_asset_path(filename)\n",
    "E = torchaudio.sox_effects.SoxEffectsChain()\n",
    "E.set_input_file(noise_filepath)\n",
    "E.append_effect_to_chain(\"treble\", [gain, central_freq, str(q) + 'q'])\n",
    "sox_output_waveform, sr = E.sox_build_flow_effects()\n",
    "\n",
    "waveform, sample_rate = torchaudio.load(noise_filepath, normalization=True)\n",
    "output_waveform = treble_biquad(waveform, sample_rate, gain, central_freq, q)\n",
    "#self.assertEqual(output_waveform, sox_output_waveform, atol=1e-4, rtol=1e-5)"
   ]
  },
  {
   "cell_type": "code",
   "execution_count": 38,
   "metadata": {},
   "outputs": [
    {
     "name": "stdout",
     "output_type": "stream",
     "text": [
      "tensor(2)\n"
     ]
    }
   ],
   "source": [
    "atol = 5e-5\n",
    "diff = abs(output_waveform - sox_output_waveform)\n",
    "print((diff > atol).sum())"
   ]
  },
  {
   "cell_type": "markdown",
   "metadata": {},
   "source": [
    "Results are close with and without coefficients nomalization for treble filter"
   ]
  },
  {
   "cell_type": "code",
   "execution_count": null,
   "metadata": {},
   "outputs": [],
   "source": []
  },
  {
   "cell_type": "code",
   "execution_count": null,
   "metadata": {},
   "outputs": [],
   "source": []
  }
 ],
 "metadata": {
  "kernelspec": {
   "display_name": "Python 3",
   "language": "python",
   "name": "python3"
  },
  "language_info": {
   "codemirror_mode": {
    "name": "ipython",
    "version": 3
   },
   "file_extension": ".py",
   "mimetype": "text/x-python",
   "name": "python",
   "nbconvert_exporter": "python",
   "pygments_lexer": "ipython3",
   "version": "3.7.6"
  }
 },
 "nbformat": 4,
 "nbformat_minor": 4
}
