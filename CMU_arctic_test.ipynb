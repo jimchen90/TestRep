{
 "cells": [
  {
   "cell_type": "code",
   "execution_count": 29,
   "metadata": {},
   "outputs": [],
   "source": [
    "import os\n",
    "from typing import Tuple\n",
    "\n",
    "import torchaudio\n",
    "from torch import Tensor\n",
    "from torch.utils.data import Dataset\n",
    "from torchaudio.datasets.utils import (\n",
    "    download_url,\n",
    "    extract_archive,\n",
    "    walk_files,\n",
    ")\n",
    "\n",
    "URL = \"cmu_us_aew_arctic\"\n",
    "FOLDER_IN_ARCHIVE = \"ARCTIC\"\n",
    "_CHECKSUMS = {\n",
    "    \"http://festvox.org/cmu_arctic/packed/cmu_us_aew_arctic.tar.bz2\":\n",
    "    \"4382b116efcc8339c37e01253cb56295\",\n",
    "    \"http://festvox.org/cmu_arctic/packed/cmu_us_ahw_arctic.tar.bz2\":\n",
    "    \"b072d6e961e3f36a2473042d097d6da9\",\n",
    "    \"http://festvox.org/cmu_arctic/packed/cmu_us_aup_arctic.tar.bz2\":\n",
    "    \"5301c7aee8919d2abd632e2667adfa7f\",\n",
    "    \"http://festvox.org/cmu_arctic/packed/cmu_us_awb_arctic.tar.bz2\":\n",
    "    \"280fdff1e9857119d9a2c57b50e12db7\",\n",
    "    \"http://festvox.org/cmu_arctic/packed/cmu_us_axb_arctic.tar.bz2\":\n",
    "    \"5e21cb26c6529c533df1d02ccde5a186\",\n",
    "    \"http://festvox.org/cmu_arctic/packed/cmu_us_bdl_arctic.tar.bz2\":\n",
    "    \"b2c3e558f656af2e0a65da0ac0c3377a\",\n",
    "    \"http://festvox.org/cmu_arctic/packed/cmu_us_clb_arctic.tar.bz2\":\n",
    "    \"3957c503748e3ce17a3b73c1b9861fb0\",\n",
    "    \"http://festvox.org/cmu_arctic/packed/cmu_us_eey_arctic.tar.bz2\":\n",
    "    \"59708e932d27664f9eda3e8e6859969b\",\n",
    "    \"http://festvox.org/cmu_arctic/packed/cmu_us_fem_arctic.tar.bz2\":\n",
    "    \"dba4f992ff023347c07c304bf72f4c73\",\n",
    "    \"http://festvox.org/cmu_arctic/packed/cmu_us_gka_arctic.tar.bz2\":\n",
    "    \"24a876ea7335c1b0ff21460e1241340f\",\n",
    "    \"http://festvox.org/cmu_arctic/packed/cmu_us_jmk_arctic.tar.bz2\":\n",
    "    \"afb69d95f02350537e8a28df5ab6004b\",\n",
    "    \"http://festvox.org/cmu_arctic/packed/cmu_us_ksp_arctic.tar.bz2\":\n",
    "    \"4ce5b3b91a0a54b6b685b1b05aa0b3be\",\n",
    "    \"http://festvox.org/cmu_arctic/packed/cmu_us_ljm_arctic.tar.bz2\":\n",
    "    \"6f45a3b2c86a4ed0465b353be291f77d\",\n",
    "    \"http://festvox.org/cmu_arctic/packed/cmu_us_lnh_arctic.tar.bz2\":\n",
    "    \"c6a15abad5c14d27f4ee856502f0232f\",\n",
    "    \"http://festvox.org/cmu_arctic/packed/cmu_us_rms_arctic.tar.bz2\":\n",
    "    \"71072c983df1e590d9e9519e2a621f6e\",\n",
    "    \"http://festvox.org/cmu_arctic/packed/cmu_us_rxr_arctic.tar.bz2\":\n",
    "    \"3771ff03a2f5b5c3b53aa0a68b9ad0d5\",\n",
    "    \"http://festvox.org/cmu_arctic/packed/cmu_us_slp_arctic.tar.bz2\":\n",
    "    \"9cbf984a832ea01b5058ba9a96862850\",\n",
    "    \"http://festvox.org/cmu_arctic/packed/cmu_us_slt_arctic.tar.bz2\":\n",
    "    \"959eecb2cbbc4ac304c6b92269380c81\",\n",
    "}\n",
    "\n",
    "\n",
    "def load_cmu_arctic_item(fileid: str,\n",
    "                         path: str,\n",
    "                         ext_audio: str,\n",
    "                         ext_txt: str) -> Tuple[Tensor, int, str, str]:\n",
    "    utterance_id = fileid\n",
    "\n",
    "    file_text = os.path.join(path, \"etc\", ext_txt)\n",
    "\n",
    "    file_audio = os.path.join(path, \"wav\", utterance_id + ext_audio)\n",
    "\n",
    "    # Load audio\n",
    "    waveform, sample_rate = torchaudio.load(file_audio)\n",
    "\n",
    "    # Load text\n",
    "    with open(file_text) as ft:\n",
    "        for line in ft:\n",
    "            file_id, utterance = line.strip().split(\" \", 2)[1:]\n",
    "            if fileid == file_id:\n",
    "                utterance = utterance[1:-3]\n",
    "                break\n",
    "        else:\n",
    "            # Translation not found\n",
    "            raise FileNotFoundError(\"Translation not found for \" + fileid)\n",
    "\n",
    "    return (\n",
    "        waveform,\n",
    "        sample_rate,\n",
    "        utterance,\n",
    "        utterance_id.split(\"_\")[1]\n",
    "    )\n",
    "\n",
    "\n",
    "class CMU_ARCTIC(Dataset):\n",
    "    \"\"\"\n",
    "    Create a Dataset for CMU_Arctic. Each item is a tuple of the form:\n",
    "    waveform, sample_rate, utterance, utterance_id\n",
    "    \"\"\"\n",
    "\n",
    "    _ext_txt = \"txt.done.data\"\n",
    "    _ext_audio = \".wav\"\n",
    "\n",
    "    def __init__(self,\n",
    "                 root: str,\n",
    "                 url: str = URL,\n",
    "                 folder_in_archive: str = FOLDER_IN_ARCHIVE,\n",
    "                 download: bool = False) -> None:\n",
    "\n",
    "        if url in [\n",
    "            \"cmu_us_aew_arctic\",\n",
    "            \"cmu_us_ahw_arctic\",\n",
    "            \"cmu_us_aup_arctic\",\n",
    "            \"cmu_us_awb_arctic\",\n",
    "            \"cmu_us_axb_arctic\",\n",
    "            \"cmu_us_bdl_arctic\",\n",
    "            \"cmu_us_clb_arctic\",\n",
    "            \"cmu_us_eey_arctic\",\n",
    "            \"cmu_us_fem_arctic\",\n",
    "            \"cmu_us_gka_arctic\",\n",
    "            \"cmu_us_jmk_arctic\",\n",
    "            \"cmu_us_ksp_arctic\",\n",
    "            \"cmu_us_ljm_arctic\",\n",
    "            \"cmu_us_lnh_arctic\",\n",
    "            \"cmu_us_rms_arctic\",\n",
    "            \"cmu_us_rxr_arctic\",\n",
    "            \"cmu_us_slp_arctic\",\n",
    "            \"cmu_us_slt_arctic\"\n",
    "        ]:\n",
    "\n",
    "            ext_archive = \".tar.bz2\"\n",
    "            base_url = \"http://www.festvox.org/cmu_arctic/packed/\"\n",
    "\n",
    "            url = os.path.join(base_url, url + ext_archive)\n",
    "\n",
    "        basename = os.path.basename(url)\n",
    "        root = os.path.join(root, folder_in_archive)\n",
    "        if not os.path.isdir(root):\n",
    "            os.mkdir(root)\n",
    "        archive = os.path.join(root, basename)\n",
    "\n",
    "        basename = basename.split(\".\")[0]\n",
    "\n",
    "        self._path = os.path.join(root, basename)\n",
    "\n",
    "        if download:\n",
    "            if not os.path.isdir(self._path):\n",
    "                if not os.path.isfile(archive):\n",
    "                    checksum = _CHECKSUMS.get(url, None)\n",
    "                    download_url(url, root, hash_value=checksum)\n",
    "                extract_archive(archive)\n",
    "\n",
    "        walker = walk_files(\n",
    "            self._path, suffix=self._ext_audio, prefix=False, remove_suffix=True\n",
    "        )\n",
    "        self._walker = list(walker)\n",
    "\n",
    "    def __getitem__(self, n: int) -> Tuple[Tensor, int, str, str]:\n",
    "        fileid = self._walker[n]\n",
    "        return load_cmu_arctic_item(fileid, self._path, self._ext_audio, self._ext_txt)\n",
    "\n",
    "    def __len__(self) -> int:\n",
    "        return len(self._walker)"
   ]
  },
  {
   "cell_type": "code",
   "execution_count": 30,
   "metadata": {},
   "outputs": [],
   "source": [
    "cmu_data = CMU_ARCTIC('.', url = \"cmu_us_lnh_arctic\", download=True)"
   ]
  },
  {
   "cell_type": "code",
   "execution_count": 34,
   "metadata": {},
   "outputs": [
    {
     "name": "stdout",
     "output_type": "stream",
     "text": [
      "(tensor([[-0.0008, -0.0004, -0.0011,  ...,  0.0265,  0.0284,  0.0286]]), 16000, 'Will we ever forget it.', 'a0005')\n"
     ]
    }
   ],
   "source": [
    "print(cmu_data.__getitem__(580))\n"
   ]
  },
  {
   "cell_type": "code",
   "execution_count": 35,
   "metadata": {},
   "outputs": [
    {
     "name": "stdout",
     "output_type": "stream",
     "text": [
      "1132\n"
     ]
    }
   ],
   "source": [
    "print(cmu_data.__len__())"
   ]
  },
  {
   "cell_type": "code",
   "execution_count": 36,
   "metadata": {},
   "outputs": [],
   "source": [
    "import torch\n",
    "data_loader = torch.utils.data.DataLoader(cmu_data,\n",
    "                                          batch_size=1,\n",
    "                                          shuffle=True,\n",
    "                                          num_workers=4)"
   ]
  },
  {
   "cell_type": "code",
   "execution_count": 33,
   "metadata": {},
   "outputs": [
    {
     "name": "stdout",
     "output_type": "stream",
     "text": [
      "[tensor([[[-2.7466e-04,  0.0000e+00, -3.6621e-04,  ..., -9.1553e-05,\n",
      "          -1.8311e-04, -4.5776e-04]]]), tensor([16000]), ('They look as though he had been drumming a piano all his life.',), ('a0159',)]\n"
     ]
    }
   ],
   "source": [
    "print(next(iter(data_loader)))"
   ]
  },
  {
   "cell_type": "code",
   "execution_count": null,
   "metadata": {},
   "outputs": [],
   "source": []
  }
 ],
 "metadata": {
  "kernelspec": {
   "display_name": "Python 3",
   "language": "python",
   "name": "python3"
  },
  "language_info": {
   "codemirror_mode": {
    "name": "ipython",
    "version": 3
   },
   "file_extension": ".py",
   "mimetype": "text/x-python",
   "name": "python",
   "nbconvert_exporter": "python",
   "pygments_lexer": "ipython3",
   "version": "3.7.6"
  }
 },
 "nbformat": 4,
 "nbformat_minor": 4
}
