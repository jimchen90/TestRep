{
 "cells": [
  {
   "cell_type": "code",
   "execution_count": 7,
   "metadata": {},
   "outputs": [],
   "source": [
    "import os\n",
    "from typing import Tuple\n",
    "\n",
    "import torchaudio\n",
    "from torch import Tensor\n",
    "from torch.utils.data import Dataset\n",
    "from torchaudio.datasets.utils import (\n",
    "    download_url,\n",
    "    extract_archive,\n",
    "    unicode_csv_reader,\n",
    ")\n",
    "\n",
    "URL = \"aew\"\n",
    "FOLDER_IN_ARCHIVE = \"ARCTIC\"\n",
    "_CHECKSUMS = {\n",
    "    \"http://festvox.org/cmu_arctic/packed/cmu_us_aew_arctic.tar.bz2\":\n",
    "    \"4382b116efcc8339c37e01253cb56295\",\n",
    "    \"http://festvox.org/cmu_arctic/packed/cmu_us_ahw_arctic.tar.bz2\":\n",
    "    \"b072d6e961e3f36a2473042d097d6da9\",\n",
    "    \"http://festvox.org/cmu_arctic/packed/cmu_us_aup_arctic.tar.bz2\":\n",
    "    \"5301c7aee8919d2abd632e2667adfa7f\",\n",
    "    \"http://festvox.org/cmu_arctic/packed/cmu_us_awb_arctic.tar.bz2\":\n",
    "    \"280fdff1e9857119d9a2c57b50e12db7\",\n",
    "    \"http://festvox.org/cmu_arctic/packed/cmu_us_axb_arctic.tar.bz2\":\n",
    "    \"5e21cb26c6529c533df1d02ccde5a186\",\n",
    "    \"http://festvox.org/cmu_arctic/packed/cmu_us_bdl_arctic.tar.bz2\":\n",
    "    \"b2c3e558f656af2e0a65da0ac0c3377a\",\n",
    "    \"http://festvox.org/cmu_arctic/packed/cmu_us_clb_arctic.tar.bz2\":\n",
    "    \"3957c503748e3ce17a3b73c1b9861fb0\",\n",
    "    \"http://festvox.org/cmu_arctic/packed/cmu_us_eey_arctic.tar.bz2\":\n",
    "    \"59708e932d27664f9eda3e8e6859969b\",\n",
    "    \"http://festvox.org/cmu_arctic/packed/cmu_us_fem_arctic.tar.bz2\":\n",
    "    \"dba4f992ff023347c07c304bf72f4c73\",\n",
    "    \"http://festvox.org/cmu_arctic/packed/cmu_us_gka_arctic.tar.bz2\":\n",
    "    \"24a876ea7335c1b0ff21460e1241340f\",\n",
    "    \"http://festvox.org/cmu_arctic/packed/cmu_us_jmk_arctic.tar.bz2\":\n",
    "    \"afb69d95f02350537e8a28df5ab6004b\",\n",
    "    \"http://festvox.org/cmu_arctic/packed/cmu_us_ksp_arctic.tar.bz2\":\n",
    "    \"4ce5b3b91a0a54b6b685b1b05aa0b3be\",\n",
    "    \"http://festvox.org/cmu_arctic/packed/cmu_us_ljm_arctic.tar.bz2\":\n",
    "    \"6f45a3b2c86a4ed0465b353be291f77d\",\n",
    "    \"http://festvox.org/cmu_arctic/packed/cmu_us_lnh_arctic.tar.bz2\":\n",
    "    \"c6a15abad5c14d27f4ee856502f0232f\",\n",
    "    \"http://festvox.org/cmu_arctic/packed/cmu_us_rms_arctic.tar.bz2\":\n",
    "    \"71072c983df1e590d9e9519e2a621f6e\",\n",
    "    \"http://festvox.org/cmu_arctic/packed/cmu_us_rxr_arctic.tar.bz2\":\n",
    "    \"3771ff03a2f5b5c3b53aa0a68b9ad0d5\",\n",
    "    \"http://festvox.org/cmu_arctic/packed/cmu_us_slp_arctic.tar.bz2\":\n",
    "    \"9cbf984a832ea01b5058ba9a96862850\",\n",
    "    \"http://festvox.org/cmu_arctic/packed/cmu_us_slt_arctic.tar.bz2\":\n",
    "    \"959eecb2cbbc4ac304c6b92269380c81\",\n",
    "}\n",
    "\n",
    "\n",
    "def load_cmuarctic_item(line: str,\n",
    "                        path: str,\n",
    "                        folder_audio: str,\n",
    "                        ext_audio: str) -> Tuple[Tensor, int, str, str]:\n",
    "\n",
    "    utterance_id, utterance = line.strip().split(\" \", 2)[1:]\n",
    "\n",
    "    # clean \"utterance\" ) to utterance\n",
    "    utterance = utterance[1:-3]\n",
    "\n",
    "    file_audio = os.path.join(path, folder_audio, utterance_id + ext_audio)\n",
    "\n",
    "    # Load audio\n",
    "    waveform, sample_rate = torchaudio.load(file_audio)\n",
    "\n",
    "    return (\n",
    "        waveform,\n",
    "        sample_rate,\n",
    "        utterance,\n",
    "        utterance_id.split(\"_\")[1]\n",
    "    )\n",
    "\n",
    "\n",
    "class CMUARCTIC(Dataset):\n",
    "    \"\"\"\n",
    "    Create a Dataset for CMU_arctic. Each item is a tuple of the form:\n",
    "    waveform, sample_rate, utterance, utterance_id\n",
    "    \"\"\"\n",
    "\n",
    "    _file_text = \"txt.done.data\"\n",
    "    _folder_text = \"etc\"\n",
    "    _ext_audio = \".wav\"\n",
    "    _folder_audio = \"wav\"\n",
    "\n",
    "    def __init__(self,\n",
    "                 root: str,\n",
    "                 url: str = URL,\n",
    "                 folder_in_archive: str = FOLDER_IN_ARCHIVE,\n",
    "                 download: bool = False) -> None:\n",
    "\n",
    "        if url in [\n",
    "            \"aew\",\n",
    "            \"ahw\",\n",
    "            \"aup\",\n",
    "            \"awb\",\n",
    "            \"axb\",\n",
    "            \"bdl\",\n",
    "            \"clb\",\n",
    "            \"eey\",\n",
    "            \"fem\",\n",
    "            \"gka\",\n",
    "            \"jmk\",\n",
    "            \"ksp\",\n",
    "            \"ljm\",\n",
    "            \"lnh\",\n",
    "            \"rms\",\n",
    "            \"rxr\",\n",
    "            \"slp\",\n",
    "            \"slt\"\n",
    "        ]:\n",
    "\n",
    "            url = \"cmu_us_\" + url + \"_arctic\"\n",
    "            ext_archive = \".tar.bz2\"\n",
    "            base_url = \"http://www.festvox.org/cmu_arctic/packed/\"\n",
    "\n",
    "            url = os.path.join(base_url, url + ext_archive)\n",
    "\n",
    "        basename = os.path.basename(url)\n",
    "        root = os.path.join(root, folder_in_archive)\n",
    "        if not os.path.isdir(root):\n",
    "            os.mkdir(root)\n",
    "        archive = os.path.join(root, basename)\n",
    "\n",
    "        basename = basename.split(\".\")[0]\n",
    "\n",
    "        self._path = os.path.join(root, basename)\n",
    "\n",
    "        if download:\n",
    "            if not os.path.isdir(self._path):\n",
    "                if not os.path.isfile(archive):\n",
    "                    checksum = _CHECKSUMS.get(url, None)\n",
    "                    download_url(url, root, hash_value=checksum, hash_type=\"md5\")\n",
    "                extract_archive(archive)\n",
    "\n",
    "        self._text = os.path.join(self._path, self._folder_text, self._file_text)\n",
    "\n",
    "        with open(self._text, \"r\") as text:\n",
    "            walker = unicode_csv_reader(text, delimiter=\"\\n\")\n",
    "            self._walker = list(walker)\n",
    "\n",
    "    def __getitem__(self, n: int) -> Tuple[Tensor, int, str, str]:\n",
    "        line = self._walker[n][0]\n",
    "        return load_cmuarctic_item(line, self._path, self._folder_audio, self._ext_audio)\n",
    "\n",
    "    def __len__(self) -> int:\n",
    "        return len(self._walker)"
   ]
  },
  {
   "cell_type": "code",
   "execution_count": 2,
   "metadata": {},
   "outputs": [],
   "source": [
    "cmu_data = CMUARCTIC('.', url = \"aew\", download=True)"
   ]
  },
  {
   "cell_type": "code",
   "execution_count": 3,
   "metadata": {},
   "outputs": [
    {
     "name": "stdout",
     "output_type": "stream",
     "text": [
      "(tensor([[0.0034, 0.0035, 0.0035,  ..., 0.0006, 0.0005, 0.0004]]), 16000, 'Not at this particular case, Tom, apologized Whittemore.', 'a0002')\n"
     ]
    }
   ],
   "source": [
    "print(cmu_data.__getitem__(1))\n"
   ]
  },
  {
   "cell_type": "code",
   "execution_count": 4,
   "metadata": {},
   "outputs": [
    {
     "name": "stdout",
     "output_type": "stream",
     "text": [
      "1132\n"
     ]
    }
   ],
   "source": [
    "print(cmu_data.__len__())"
   ]
  },
  {
   "cell_type": "code",
   "execution_count": 5,
   "metadata": {},
   "outputs": [],
   "source": [
    "import torch\n",
    "data_loader = torch.utils.data.DataLoader(cmu_data,\n",
    "                                          batch_size=1,\n",
    "                                          shuffle=True,\n",
    "                                          num_workers=4)"
   ]
  },
  {
   "cell_type": "code",
   "execution_count": 6,
   "metadata": {},
   "outputs": [
    {
     "name": "stdout",
     "output_type": "stream",
     "text": [
      "[tensor([[[-0.0017, -0.0017, -0.0017,  ...,  0.0015,  0.0012,  0.0009]]]), tensor([16000]), ('It is also an insidious, deceitful sun.',), ('a0417',)]\n"
     ]
    }
   ],
   "source": [
    "print(next(iter(data_loader)))"
   ]
  },
  {
   "cell_type": "code",
   "execution_count": null,
   "metadata": {},
   "outputs": [],
   "source": []
  }
 ],
 "metadata": {
  "kernelspec": {
   "display_name": "Python 3",
   "language": "python",
   "name": "python3"
  },
  "language_info": {
   "codemirror_mode": {
    "name": "ipython",
    "version": 3
   },
   "file_extension": ".py",
   "mimetype": "text/x-python",
   "name": "python",
   "nbconvert_exporter": "python",
   "pygments_lexer": "ipython3",
   "version": "3.7.6"
  }
 },
 "nbformat": 4,
 "nbformat_minor": 4
}
